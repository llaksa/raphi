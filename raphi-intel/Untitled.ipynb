{
 "cells": [
  {
   "cell_type": "code",
   "execution_count": 142,
   "metadata": {},
   "outputs": [],
   "source": [
    "import datetime\n",
    "import psycopg2 as pg\n",
    "import json\n",
    "import pandas as pd\n",
    "import cv2 as cv\n",
    "import numpy as np\n",
    "from matplotlib import pyplot as plt"
   ]
  },
  {
   "cell_type": "code",
   "execution_count": 447,
   "metadata": {},
   "outputs": [],
   "source": [
    "def foundFit(plant_num, name_file):\n",
    "    import cv2 as cv\n",
    "    import numpy as np\n",
    "    \n",
    "    #img0 = cv.imread('{}.png'.format((first_date + days(day_number))))\n",
    "    #img = cv.imread('{}.png'.format((first_date + days(day_number))))\n",
    "\n",
    "    img0 = cv.imread(name_file) # reemplazar por la foto de la fecha actual\n",
    "    img = cv.imread(name_file) # reemplazar por la foto de la fecha actual\n",
    "\n",
    "    [xLen, yLen] = img.shape[:2]\n",
    "\n",
    "    ideal_area = xLen * yLen / plant_num\n",
    "\n",
    "    xL = np.arange(xLen)\n",
    "    yL = np.arange(yLen)\n",
    "\n",
    "    R_factor = 1.07\n",
    "    B_factor = 1.05\n",
    "\n",
    "    # CREANDO UNA MÁSCARA QUE PINTA DE BLANCO TODO LO VERDE Y NEGRO LO DEMÁS\n",
    "    for i in xL:\n",
    "        for j in yL:\n",
    "            green_px = img0[i, j, 1]\n",
    "            if green_px > R_factor * img[i, j, 0] and green_px > B_factor * img[i, j, 2]:\n",
    "                img[i, j, :] = [255, 255, 255]\n",
    "            else:\n",
    "                img[i, j, :] = [0, 0, 0]\n",
    "    \n",
    "    gray_img = cv.cvtColor(img, cv.COLOR_BGR2GRAY)\n",
    "    ret,th1 = cv.threshold(gray_img,200,255,cv.THRESH_BINARY)\n",
    "    img2,contours,hierarchy = cv.findContours(th1, cv.RETR_TREE, cv.CHAIN_APPROX_SIMPLE)\n",
    "    #img3 = cv.drawContours(image, contours, -1, (0,255,0), 3)\n",
    "    \n",
    "    fit1 = []\n",
    "    fit2 = []\n",
    "    fit3 = []\n",
    "    \n",
    "    for c in contours:\n",
    "        # finally, get the min enclosing circle\n",
    "        (rx, ry), radius = cv.minEnclosingCircle(c)\n",
    "        center = (int(rx), int(ry))\n",
    "        radius = int(radius)\n",
    "        \n",
    "        area = cv.contourArea(c)\n",
    "    \n",
    "        # and draw the circle in blue\n",
    "        if radius > 50:\n",
    "            fit1.append(area / ideal_area)\n",
    "        \n",
    "            # get the bounding rect\n",
    "            y, x, h, w = cv.boundingRect(c)\n",
    "            # draw a green rectangle to visualize the bounding rect\n",
    "            #cv.rectangle(img, (x, y), (x+w, y+h), (0, 255, 0), 2)  \n",
    "                        \n",
    "            mask = np.zeros(img0.shape[:2], np.uint8)\n",
    "        \n",
    "            mask[x:x+w, y:y+h] = th1[x:x+w, y:y+h]   \n",
    "        \n",
    "            hist_mask_R = cv.calcHist([img0],[2],mask,[256],[0,256])\n",
    "            hist_mask_G = cv.calcHist([img0],[1],mask,[256],[0,256])\n",
    "            hist_mask_B = cv.calcHist([img0],[0],mask,[256],[0,256])\n",
    "\n",
    "            # Number of total frequencies of the actual mask (no matter the channel :p !!!)\n",
    "            total_mask_fc = np.sum(hist_mask_R)\n",
    "        \n",
    "            r_fc = []\n",
    "            g_fc = []\n",
    "            b_fc = []\n",
    "        \n",
    "            r_val = []\n",
    "            g_val = []\n",
    "            b_val = []\n",
    "        \n",
    "            for k in np.arange(256):\n",
    "                r_percentage = hist_mask_R[k][0] / total_mask_fc\n",
    "                g_percentage = hist_mask_G[k][0] / total_mask_fc\n",
    "                b_percentage = hist_mask_B[k][0] / total_mask_fc\n",
    "            \n",
    "                if r_percentage >= 0.005:\n",
    "                    r_fc.append(hist_mask_R[k][0])\n",
    "                    r_val.append(k)\n",
    "                    \n",
    "                if g_percentage >= 0.005:\n",
    "                    g_fc.append(hist_mask_G[k][0])\n",
    "                    g_val.append(k)\n",
    "                    \n",
    "                if b_percentage >= 0.005:\n",
    "                    b_fc.append(hist_mask_B[k][0])\n",
    "                    b_val.append(k)\n",
    "             \n",
    "            if r_fc == []:\n",
    "                r_fc = [0]\n",
    "                r_val = [0]\n",
    "            \n",
    "            if g_fc == []:\n",
    "                g_fc = [0]\n",
    "                g_val = [0]\n",
    "                \n",
    "            if b_fc == []:\n",
    "                b_fc = [0]\n",
    "                b_val = [0]\n",
    "        \n",
    "            from functools import reduce\n",
    "            \n",
    "            # Histogram Frecuencies average\n",
    "            r_fc_av = reduce((lambda x, y: x + y),r_fc) / 256\n",
    "            g_fc_av = reduce((lambda x, y: x + y),g_fc) / 256\n",
    "            b_fc_av = reduce((lambda x, y: x + y),b_fc) / 256\n",
    "    \n",
    "            # Histogram Values average\n",
    "            r_val_av = reduce((lambda x, y: x + y),r_val) / 256\n",
    "            g_val_av = reduce((lambda x, y: x + y),g_val) / 256\n",
    "            b_val_av = reduce((lambda x, y: x + y),b_val) / 256\n",
    "            \n",
    "            fit2.append(g_val_av / (r_val_av + g_val_av + b_val_av))\n",
    "            \n",
    "            fit3.append(g_fc_av / (r_fc_av + g_fc_av + b_fc_av))\n",
    "            \n",
    "            # get the min area rect\n",
    "            rect = cv.minAreaRect(c)\n",
    "            box = cv.boxPoints(rect)\n",
    "            # convert all coordinates floating point values to int\n",
    "            box = np.int0(box)\n",
    "            # draw a red 'nghien' rectangle\n",
    "            #cv.drawContours(img, [box], 0, (0, 0, 255))\n",
    "            \n",
    "            cv.drawContours(img, [box], 0, (0, 0, 255))\n",
    "            cv.rectangle(img, (y, x), (y+h, x+w), (0, 255, 0), 2)\n",
    "            img_final = cv.circle(img, center, radius, (255, 0, 0), 2)\n",
    "    \n",
    "    fit1 = reduce((lambda x, y: x + y),fit1) / plant_num\n",
    "    fit2 = reduce((lambda x, y: x + y),fit2) / plant_num\n",
    "    fit3 = reduce((lambda x, y: x + y),fit3) / plant_num\n",
    "    \n",
    "    fit = [fit1, fit2, fit3]\n",
    "    return fit"
   ]
  },
  {
   "cell_type": "code",
   "execution_count": null,
   "metadata": {},
   "outputs": [],
   "source": []
  },
  {
   "cell_type": "code",
   "execution_count": 143,
   "metadata": {},
   "outputs": [],
   "source": [
    "# JALAR TODAS LOS TAGS\n",
    "con = pg.connect(\"dbname='raphi_database' user='raphi_role' password='raphi_password' host='localhost'\")\n",
    "cur = con.cursor()\n",
    "cur.execute(\"select * from metrics\")\n",
    "rows = cur.fetchall()"
   ]
  },
  {
   "cell_type": "code",
   "execution_count": null,
   "metadata": {},
   "outputs": [],
   "source": [
    "# INGRESAR EL ORDINAL DEL DÍA A EVALUAR\n",
    "day_number = 1\n",
    "\n",
    "# Adiciona \"d\" días a una fecha\n",
    "def days(d):\n",
    "    return pd.Timedelta('{} days'.format(d - 1))\n",
    "\n",
    "first_date = rows[0][3]\n",
    "\n",
    "df = pd.DataFrame(rows, columns = [\"id\", \"type\", \"value\", \"date\", \"update\", \"station\"])\n",
    "df = df.set_index(['id'])\n",
    "df = df[(df['date'] >= (first_date + days(day_number))) & (df['date'] < (first_date + days(day_number+1)))]\n",
    "\n",
    "# Todos los valores de la base de datos del día evaluado en un objeto lista\n",
    "dates_mask = df.values.tolist()"
   ]
  },
  {
   "cell_type": "code",
   "execution_count": 469,
   "metadata": {},
   "outputs": [],
   "source": [
    "env_min = [0, 0, 0, 0, 0, 0, 4, 4, 4, 4] # min_environments_params\n",
    "env_max = [20, 20, 20, 20, 20, 20, 12, 12, 12, 12] # max_environments_params"
   ]
  },
  {
   "cell_type": "code",
   "execution_count": 472,
   "metadata": {},
   "outputs": [],
   "source": [
    "def range_percentage(_min, _max, value):\n",
    "    return (value - _min) / (_max - _min)"
   ]
  },
  {
   "cell_type": "code",
   "execution_count": 470,
   "metadata": {},
   "outputs": [],
   "source": [
    "# environment params =\n",
    "# [Airtempday, Airtempnight, Levelday, Levelnight, Lightday, Lightnight, Fshair, FshNutSol, AirCirc, NutSolCirc]\n",
    "env_parms = [] \n",
    "\n",
    "AirTemp = list(filter(lambda x: x[0] == 'AirTemperature', dates_mask))\n",
    "\n",
    "TnkLevel = list(filter(lambda x: x[0] == 'TankLevel', dates_mask))\n",
    "\n",
    "Light = list(filter(lambda x: x[0] == 'LightIntensity', dates_mask))\n",
    "\n",
    "FshAir = list(filter(lambda x: x[0] == 'FreshAir', dates_mask))\n",
    "FshAir = list(filter(lambda x: x[1] == 'true', FshAir))\n",
    "\n",
    "FshNutSol = list(filter(lambda x: x[0] == 'FreshNutriSol', dates_mask))\n",
    "FshNutSol = list(filter(lambda x: x[1] == 'true', FshNutSol))\n",
    "\n",
    "AirCir = list(filter(lambda x: x[0] == 'AirCirculation', rows))\n",
    "AirCir = list(filter(lambda x: x[1] == 'true', AirCir))\n",
    "\n",
    "NutSolCir = list(filter(lambda x: x[0] == 'NutriSolCirculation', dates_mask))\n",
    "NutSolCir = list(filter(lambda x: x[1] == 'true', NutSolCir))\n",
    "\n",
    "env_parms.append(AirTemp[0][1])\n",
    "env_parms.append(AirTemp[len(AirTemp)-1][1])\n",
    "\n",
    "env_parms.append(TnkLevel[0][1])\n",
    "env_parms.append(TnkLevel[len(TnkLevel)-1][1])\n",
    "\n",
    "env_parms.append(Light[0][1])\n",
    "env_parms.append(Light[len(Light)-1][1])\n",
    "\n",
    "env_parms.append(len(FshAir))\n",
    "env_parms.append(len(FshNutSol))\n",
    "env_parms.append(len(AirCir))\n",
    "env_parms.append(len(NutSolCir))\n",
    "\n",
    "env_parms = list(map(float, env_parms))\n",
    "\n",
    "env_parms_str = str(env_parms)"
   ]
  },
  {
   "cell_type": "code",
   "execution_count": 474,
   "metadata": {},
   "outputs": [],
   "source": [
    "per_params = list(map(range_percentage, env_min, env_max, env_parms)) # Futuro genoma"
   ]
  },
  {
   "cell_type": "code",
   "execution_count": 475,
   "metadata": {},
   "outputs": [],
   "source": [
    "# Fecha actual\n",
    "today = datetime.datetime.now()\n",
    "\n",
    "#CAPTURA DE FOTO DIARIA\n",
    "#--- INICIO CAPTURA ---\n",
    "cap = cv.VideoCapture(0)\n",
    "readed, frame = cap.read()\n",
    "if readed == True:\n",
    "    cv.imwrite(\"{}.png\".format(per_params), frame) # fecha de la foto en el nombre\n",
    "    #print(\"Foto tomada correctamente\")\n",
    "else:\n",
    "    print(\"Error al acceder a la cámara\")\n",
    "cap.release()\n",
    "#--- FIN CAPTURA ---"
   ]
  },
  {
   "cell_type": "code",
   "execution_count": null,
   "metadata": {},
   "outputs": [],
   "source": [
    "def make_station(env_parms, Fit):\n",
    "    fitness_id = str(env_parms)\n",
    "    return {fitness_id: Fit}\n",
    "\n",
    "for i in np.arange():\n",
    "    stations[i] = make_station(env_parms[i], Fit[i])"
   ]
  },
  {
   "cell_type": "code",
   "execution_count": null,
   "metadata": {},
   "outputs": [],
   "source": []
  },
  {
   "cell_type": "code",
   "execution_count": null,
   "metadata": {},
   "outputs": [
    {
     "name": "stdout",
     "output_type": "stream",
     "text": [
      "AAAAAAA\n",
      "[0.8762978097939417, 0.46394778986173824, 0.7119785099346969, 0.5022233206477273, 0.9027678573450476, 0.8847205327818151, 0.5525412348761931, 0.14503934648674344, 0.06379897776917687, 0.6474942025096451]\n"
     ]
    }
   ],
   "source": [
    "import numpy as np\n",
    "\n",
    "TARGET=[1,1,0];\n",
    "\n",
    "MUT_PROB = 10;\n",
    "    \n",
    "def generateGenome():\n",
    "    env_min = [0, 0, 0, 0, 0, 0, 4, 4, 4, 4] # min_environments_params\n",
    "    env_max = [20, 20, 20, 20, 20, 20, 12, 12, 12, 12] # max_environments_params\n",
    "    \n",
    "    def generateOneParms(_min, _max):\n",
    "        return (_min + (_max - _min) * np.random.rand())\n",
    "    \n",
    "    def parms_percentage(env_min, env_max, env_per):\n",
    "        return (env_per - env_min) / (env_max - env_min)\n",
    "    \n",
    "    env_parms = list(map(generateOneParms, env_min, env_max)) # O ingresar los valores MANUALMENTE!!!\n",
    "    \n",
    "    genome = list(map(parms_percentage, env_min, env_max, env_parms))\n",
    "\n",
    "    return genome\n",
    "\n",
    "genome = generateGenome()\n",
    "\n",
    "# Cálculo del los fitness factors de la imagen diaria respecto del genoma dado\n",
    "def fitImgFactors(genome):\n",
    "    #fitness = foundFit(6, '{}.png'.format(genome))\n",
    "    fitness = foundFit(6, 'letucce.jpeg')\n",
    "    return fitness\n",
    "\n",
    "# Obtención del fitness total de la imagen\n",
    "def getFitness(genome):\n",
    "    fitness = 0\n",
    "    fitFactors = fitImgFactors(genome)\n",
    "    for i in np.arange(len(TARGET)):\n",
    "        if (TARGET[i]-fitFactors[i] < 0.2):\n",
    "            fitness = fitness + 1\n",
    "    return fitness\n",
    "\n",
    "# Generación de un conjunto (\"piscina\") de 50 genomas (estaciones) e inicializado con el genoma actual (Estación actual)\n",
    "def getGenePool(genome):\n",
    "    pool = []\n",
    "    for i in np.arange(50):\n",
    "        pool.append(genome)\n",
    "    return pool\n",
    "\n",
    "pool = getGenePool(genome)\n",
    "\n",
    "# Evaluación de una piscina para obtener el genoma con mayor fitness\n",
    "def getFittest(pool):\n",
    "    fittestLoc = 0\n",
    "    fittest = 0\n",
    "    for i in np.arange(len(pool)):\n",
    "        if (getFitness(pool[i]) > fittest):\n",
    "            fittest = getFitness(pool[i])\n",
    "            fittestLoc = i\n",
    "    return pool[fittestLoc]\n",
    "\n",
    "# Mutación de un genoma (valores nuevos para las condiciones ambientales)\n",
    "def doMutation(genome):\n",
    "    testGenome = genome\n",
    "    newGenome = []\n",
    "    for i in np.arange(len(genome)):\n",
    "        if(np.round((np.random.rand()*MUT_PROB))==1):\n",
    "            testGenome[i]=np.random.rand() # Estos valores deben ser implementados como Setpoint para alguna estación\n",
    "                                           # esperar a tomar la foto, hallar el fitness \n",
    "            if(getFitness(testGenome)>getFitness(genome)):\n",
    "                newGenome.append(testGenome[i])\n",
    "            else:\n",
    "                newGenome.append(genome[i])\n",
    "        else:\n",
    "            newGenome.append(genome[i])\n",
    "    return newGenome\n",
    "\n",
    "def evolve():\n",
    "    numGens = 0\n",
    "    fittest = generateGenome()\n",
    "    print('AAAAAAA')\n",
    "    print(fittest)\n",
    "    while(getFitness(fittest)!=3):\n",
    "        numGens = numGens + 1\n",
    "        pool = getGenePool(fittest) # Inicializando nada más\n",
    "        pool2 = []\n",
    "        for i in np.arange(len(pool)): # A todos los elementos de pool se les hace mutar para hallar genomas con más fit\n",
    "            pool2.append(doMutation(pool[i])) # se halla un nuevo pool con genomas con alto fit\n",
    "        print(pool2)\n",
    "        fittest = getFittest(pool2) # se selecciona el genoma con mayor fit del pool mejorado(el mejor de lo mejor)\n",
    "        #if(numGens%10==0):\n",
    "            #print('BBBBBBBB')\n",
    "            #print(fittest)\n",
    "    return fittestStation['genome']\n",
    "\n",
    "e = evolve();"
   ]
  },
  {
   "cell_type": "code",
   "execution_count": 110,
   "metadata": {},
   "outputs": [],
   "source": [
    "datetime_object = datetime.datetime.strptime('2018-12-01', '%Y-%m-%d')"
   ]
  },
  {
   "cell_type": "code",
   "execution_count": 111,
   "metadata": {},
   "outputs": [
    {
     "data": {
      "text/plain": [
       "datetime.datetime(2018, 12, 2, 0, 0)"
      ]
     },
     "execution_count": 111,
     "metadata": {},
     "output_type": "execute_result"
    }
   ],
   "source": [
    "datetime_object + days(2)"
   ]
  },
  {
   "cell_type": "code",
   "execution_count": 378,
   "metadata": {},
   "outputs": [
    {
     "data": {
      "text/plain": [
       "{'[0.0, 21.641475515812004, 12.1, 12.1, 0.0, 1.0, 213.0, 0.0, 0.0, 0.0]': [0.43802401962166276,\n",
       "  0.7098618594446625,\n",
       "  0.343119226395153],\n",
       " 'genome': [0.3699848704503135,\n",
       "  0.615099752703765,\n",
       "  0.9979465824259994,\n",
       "  0.4975496562779371,\n",
       "  0.21374440291750774,\n",
       "  0.5912831851571156,\n",
       "  0.28586868526174025,\n",
       "  0.09226180908912207,\n",
       "  0.6642562069270612,\n",
       "  0.20465433703318425]}"
      ]
     },
     "execution_count": 378,
     "metadata": {},
     "output_type": "execute_result"
    }
   ],
   "source": [
    "myStation"
   ]
  },
  {
   "cell_type": "code",
   "execution_count": 373,
   "metadata": {},
   "outputs": [
    {
     "data": {
      "text/plain": [
       "[0.43802401962166276, 0.7098618594446625, 0.343119226395153]"
      ]
     },
     "execution_count": 373,
     "metadata": {},
     "output_type": "execute_result"
    }
   ],
   "source": [
    "fitImgFactors(myStation)"
   ]
  },
  {
   "cell_type": "code",
   "execution_count": null,
   "metadata": {},
   "outputs": [],
   "source": []
  }
 ],
 "metadata": {
  "kernelspec": {
   "display_name": "Python 3",
   "language": "python",
   "name": "python3"
  },
  "language_info": {
   "codemirror_mode": {
    "name": "ipython",
    "version": 3
   },
   "file_extension": ".py",
   "mimetype": "text/x-python",
   "name": "python",
   "nbconvert_exporter": "python",
   "pygments_lexer": "ipython3",
   "version": "3.5.3"
  }
 },
 "nbformat": 4,
 "nbformat_minor": 2
}
